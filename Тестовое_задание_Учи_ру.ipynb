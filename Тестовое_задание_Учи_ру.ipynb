{
  "nbformat": 4,
  "nbformat_minor": 0,
  "metadata": {
    "colab": {
      "name": "Тестовое задание Учи.ру.ipynb",
      "provenance": [],
      "collapsed_sections": [
        "aoMYSqcy1Ohw"
      ],
      "toc_visible": true,
      "mount_file_id": "1osyO_6l--EmUGOuZn3I_bHi_Nj2uvbs7",
      "authorship_tag": "ABX9TyN0RZYWUU8pjguqrfIl7E+S",
      "include_colab_link": true
    },
    "kernelspec": {
      "name": "python3",
      "display_name": "Python 3"
    }
  },
  "cells": [
    {
      "cell_type": "markdown",
      "metadata": {
        "id": "view-in-github",
        "colab_type": "text"
      },
      "source": [
        "<a href=\"https://colab.research.google.com/github/kmazurov/ML-model-for-a-metalworking-enterprise/blob/main/%D0%A2%D0%B5%D1%81%D1%82%D0%BE%D0%B2%D0%BE%D0%B5_%D0%B7%D0%B0%D0%B4%D0%B0%D0%BD%D0%B8%D0%B5_%D0%A3%D1%87%D0%B8_%D1%80%D1%83.ipynb\" target=\"_parent\"><img src=\"https://colab.research.google.com/assets/colab-badge.svg\" alt=\"Open In Colab\"/></a>"
      ]
    },
    {
      "cell_type": "markdown",
      "metadata": {
        "id": "aoMYSqcy1Ohw"
      },
      "source": [
        "# A/B–тестирование\r\n",
        "\r\n",
        "В ходе тестирования одной гипотезы целевой группе была предложена новая механика оплаты услуг на сайте, у контрольной группы оставалась базовая механика. Необходимо проанализировать итоги эксперемента и сделать вывод, стоит ли запускать новую механику оплаты на всех пользователей.\r\n",
        "\r\n",
        "Описание данных:\r\n",
        "\r\n",
        "1) Таблица groups - информация о пренадлежности пользователя к контрольно или эксперементальной группе:\r\n",
        "- user_id — уникальный идентификатор пользователя\r\n",
        "- grp — А - контрольная группа, В - целевая группа\r\n",
        "\r\n",
        "2) Таблица active_studs - информация о пользователях, которые загли на платформу в дни проведения эксперемента:\r\n",
        "- student_id — уникальный идентификатор пользователя\r\n",
        "\r\n",
        "3) Таблица checks - информация об оплатах пользователей в дни проведения эксперемента:\r\n",
        "- student_id — уникальный идентификатор пользователя\r\n",
        "- rev — сумма соверешонной транзакции"
      ]
    },
    {
      "cell_type": "markdown",
      "metadata": {
        "id": "CGVjnPFXeyBX"
      },
      "source": [
        "# План работы\r\n",
        "\r\n",
        "Стандартная операция по проведению А/B теста выполняется в несколько этапов:\r\n",
        "\r\n",
        "1. Определение цели\r\n",
        "2. Определение метрик\r\n",
        "3. Формулировка гипотез\r\n",
        "4. Настройка эксперимента\r\n",
        "5. Проведение эксперимента\r\n",
        "6. Анализ результатов\r\n",
        "\r\n",
        "В данной работе будет проведен последний этап работы над А/B тестом - анализ результатов. \r\n",
        "\r\n",
        "Весь анализ разобьем на несколько основных шагов: \r\n",
        "**1. Сформулируем основную гипотезу:**\r\n",
        "*Средний чек пользователей из группы А отличается от среднего чека пользователей из группы В*\r\n",
        "- Н0 Нулевая гипотеза - Средний чек пользователей из группы А больше, чем пользователей из группы В\r\n",
        "- Н1 Альтернативная гипотеза - Средний чек пользователей из группы А меньше, чем пользователей из группы В\r\n",
        "- Уровень значимости 5%\r\n",
        "\r\n",
        "**2. Полученную выгрузку данных объединим в один датафрейм для удобства работы.** Проведем предобработку и исследовательский анализ данных.\r\n",
        "\r\n",
        "**3. Сделаем выборку, проверим ее распределение на нормальность.**\r\n",
        "\r\n",
        "**4. Проверим гипотезы с помощью t-критерия Стьюдента**\r\n",
        "\r\n",
        "В работе над задачей я использую Google Colab, поэтому первый шаг - это подключить Google Drive и загрузить данные. Однако, Google Colab передает данные пользователей на серверы Google, поэтому он не подходит для работы с конфидициальными данными. В конкретном этом задании данные обезличены."
      ]
    },
    {
      "cell_type": "markdown",
      "metadata": {
        "id": "emytHHuo3imC"
      },
      "source": [
        "# Шаг 1. Общий обзор  и предобработка данных"
      ]
    },
    {
      "cell_type": "code",
      "metadata": {
        "id": "pCvK3clkNv9h"
      },
      "source": [
        "# Импорт необходимых модулей для работы\r\n",
        "\r\n",
        "import pandas as pd\r\n",
        "import numpy as np\r\n",
        "from scipy import stats as st\r\n",
        "import matplotlib.pyplot as plt\r\n",
        "import seaborn as sns"
      ],
      "execution_count": 1,
      "outputs": []
    },
    {
      "cell_type": "code",
      "metadata": {
        "id": "8QEiW4s4N_BU",
        "colab": {
          "base_uri": "https://localhost:8080/"
        },
        "outputId": "4b16f936-3cb8-4b28-b8ca-4a07fb068d26"
      },
      "source": [
        "!ls 'drive/My Drive/Colab Notebooks/Datasets'"
      ],
      "execution_count": 2,
      "outputs": [
        {
          "output_type": "stream",
          "text": [
            "active_studs.csv  games.csv\t  internet.csv\t\t  users_behavior.csv\n",
            "calls.csv\t  geo_data_0.csv  messages.csv\t\t  users.csv\n",
            "checks.csv\t  geo_data_1.csv  preprocessing_data.csv\n",
            "checks.gsheet\t  geo_data_2.csv  real_estate_data.csv\n",
            "Churn.csv\t  groups.csv\t  tariffs.csv\n"
          ],
          "name": "stdout"
        }
      ]
    },
    {
      "cell_type": "code",
      "metadata": {
        "id": "Oyi8tG6ROEF-"
      },
      "source": [
        "group_data = pd.read_csv('/content/drive/MyDrive/Colab Notebooks/Datasets/groups.csv', sep=';')"
      ],
      "execution_count": 3,
      "outputs": []
    },
    {
      "cell_type": "code",
      "metadata": {
        "id": "Ir7RryCOPSrb"
      },
      "source": [
        "active_data = pd.read_csv('/content/drive/MyDrive/Colab Notebooks/Datasets/active_studs.csv', sep=';')"
      ],
      "execution_count": 4,
      "outputs": []
    },
    {
      "cell_type": "code",
      "metadata": {
        "id": "DemKHgoBPaQT"
      },
      "source": [
        "checks_data = pd.read_csv('/content/drive/MyDrive/Colab Notebooks/Datasets/checks.csv', sep=';')"
      ],
      "execution_count": 5,
      "outputs": []
    },
    {
      "cell_type": "markdown",
      "metadata": {
        "id": "ZDwaKx-t4vri"
      },
      "source": [
        "Перед началом исследования необходимо проверить данные на их полноту, т.е. имеются ли пропущенные значения, какие типы данных представлены, общие описание (медиана, среднее, стандартное отклонение и пр)."
      ]
    },
    {
      "cell_type": "code",
      "metadata": {
        "id": "8CEoGdEvPd23",
        "colab": {
          "base_uri": "https://localhost:8080/",
          "height": 705
        },
        "outputId": "124a951b-98c7-479d-827d-cf638b32e84c"
      },
      "source": [
        "# Первичный обзор данных для таблицы groups.csv\r\n",
        "\r\n",
        "display(group_data.head())\r\n",
        "display(group_data.describe())\r\n",
        "display(group_data.info())\r\n",
        "display(group_data.isnull().sum())"
      ],
      "execution_count": 6,
      "outputs": [
        {
          "output_type": "display_data",
          "data": {
            "text/html": [
              "<div>\n",
              "<style scoped>\n",
              "    .dataframe tbody tr th:only-of-type {\n",
              "        vertical-align: middle;\n",
              "    }\n",
              "\n",
              "    .dataframe tbody tr th {\n",
              "        vertical-align: top;\n",
              "    }\n",
              "\n",
              "    .dataframe thead th {\n",
              "        text-align: right;\n",
              "    }\n",
              "</style>\n",
              "<table border=\"1\" class=\"dataframe\">\n",
              "  <thead>\n",
              "    <tr style=\"text-align: right;\">\n",
              "      <th></th>\n",
              "      <th>id</th>\n",
              "      <th>grp</th>\n",
              "    </tr>\n",
              "  </thead>\n",
              "  <tbody>\n",
              "    <tr>\n",
              "      <th>0</th>\n",
              "      <td>1206794</td>\n",
              "      <td>B</td>\n",
              "    </tr>\n",
              "    <tr>\n",
              "      <th>1</th>\n",
              "      <td>331024</td>\n",
              "      <td>B</td>\n",
              "    </tr>\n",
              "    <tr>\n",
              "      <th>2</th>\n",
              "      <td>1733498</td>\n",
              "      <td>A</td>\n",
              "    </tr>\n",
              "    <tr>\n",
              "      <th>3</th>\n",
              "      <td>161574</td>\n",
              "      <td>B</td>\n",
              "    </tr>\n",
              "    <tr>\n",
              "      <th>4</th>\n",
              "      <td>168443</td>\n",
              "      <td>B</td>\n",
              "    </tr>\n",
              "  </tbody>\n",
              "</table>\n",
              "</div>"
            ],
            "text/plain": [
              "        id grp\n",
              "0  1206794   B\n",
              "1   331024   B\n",
              "2  1733498   A\n",
              "3   161574   B\n",
              "4   168443   B"
            ]
          },
          "metadata": {
            "tags": []
          }
        },
        {
          "output_type": "display_data",
          "data": {
            "text/html": [
              "<div>\n",
              "<style scoped>\n",
              "    .dataframe tbody tr th:only-of-type {\n",
              "        vertical-align: middle;\n",
              "    }\n",
              "\n",
              "    .dataframe tbody tr th {\n",
              "        vertical-align: top;\n",
              "    }\n",
              "\n",
              "    .dataframe thead th {\n",
              "        text-align: right;\n",
              "    }\n",
              "</style>\n",
              "<table border=\"1\" class=\"dataframe\">\n",
              "  <thead>\n",
              "    <tr style=\"text-align: right;\">\n",
              "      <th></th>\n",
              "      <th>id</th>\n",
              "    </tr>\n",
              "  </thead>\n",
              "  <tbody>\n",
              "    <tr>\n",
              "      <th>count</th>\n",
              "      <td>7.457600e+04</td>\n",
              "    </tr>\n",
              "    <tr>\n",
              "      <th>mean</th>\n",
              "      <td>2.165617e+06</td>\n",
              "    </tr>\n",
              "    <tr>\n",
              "      <th>std</th>\n",
              "      <td>2.786959e+06</td>\n",
              "    </tr>\n",
              "    <tr>\n",
              "      <th>min</th>\n",
              "      <td>1.489000e+03</td>\n",
              "    </tr>\n",
              "    <tr>\n",
              "      <th>25%</th>\n",
              "      <td>9.197188e+05</td>\n",
              "    </tr>\n",
              "    <tr>\n",
              "      <th>50%</th>\n",
              "      <td>1.669752e+06</td>\n",
              "    </tr>\n",
              "    <tr>\n",
              "      <th>75%</th>\n",
              "      <td>3.328121e+06</td>\n",
              "    </tr>\n",
              "    <tr>\n",
              "      <th>max</th>\n",
              "      <td>2.010677e+08</td>\n",
              "    </tr>\n",
              "  </tbody>\n",
              "</table>\n",
              "</div>"
            ],
            "text/plain": [
              "                 id\n",
              "count  7.457600e+04\n",
              "mean   2.165617e+06\n",
              "std    2.786959e+06\n",
              "min    1.489000e+03\n",
              "25%    9.197188e+05\n",
              "50%    1.669752e+06\n",
              "75%    3.328121e+06\n",
              "max    2.010677e+08"
            ]
          },
          "metadata": {
            "tags": []
          }
        },
        {
          "output_type": "stream",
          "text": [
            "<class 'pandas.core.frame.DataFrame'>\n",
            "RangeIndex: 74576 entries, 0 to 74575\n",
            "Data columns (total 2 columns):\n",
            " #   Column  Non-Null Count  Dtype \n",
            "---  ------  --------------  ----- \n",
            " 0   id      74576 non-null  int64 \n",
            " 1   grp     74576 non-null  object\n",
            "dtypes: int64(1), object(1)\n",
            "memory usage: 1.1+ MB\n"
          ],
          "name": "stdout"
        },
        {
          "output_type": "display_data",
          "data": {
            "text/plain": [
              "None"
            ]
          },
          "metadata": {
            "tags": []
          }
        },
        {
          "output_type": "display_data",
          "data": {
            "text/plain": [
              "id     0\n",
              "grp    0\n",
              "dtype: int64"
            ]
          },
          "metadata": {
            "tags": []
          }
        }
      ]
    },
    {
      "cell_type": "code",
      "metadata": {
        "id": "ZREHd8cw4JIl",
        "colab": {
          "base_uri": "https://localhost:8080/",
          "height": 670
        },
        "outputId": "d725eede-3757-4682-9eda-42b679241757"
      },
      "source": [
        "# Первичный обзор данных для таблицы active_studs.csv\r\n",
        "\r\n",
        "display(active_data.head())\r\n",
        "display(active_data.describe())\r\n",
        "display(active_data.info())\r\n",
        "display(active_data.isnull().sum())"
      ],
      "execution_count": 7,
      "outputs": [
        {
          "output_type": "display_data",
          "data": {
            "text/html": [
              "<div>\n",
              "<style scoped>\n",
              "    .dataframe tbody tr th:only-of-type {\n",
              "        vertical-align: middle;\n",
              "    }\n",
              "\n",
              "    .dataframe tbody tr th {\n",
              "        vertical-align: top;\n",
              "    }\n",
              "\n",
              "    .dataframe thead th {\n",
              "        text-align: right;\n",
              "    }\n",
              "</style>\n",
              "<table border=\"1\" class=\"dataframe\">\n",
              "  <thead>\n",
              "    <tr style=\"text-align: right;\">\n",
              "      <th></th>\n",
              "      <th>student_id</th>\n",
              "    </tr>\n",
              "  </thead>\n",
              "  <tbody>\n",
              "    <tr>\n",
              "      <th>0</th>\n",
              "      <td>581585</td>\n",
              "    </tr>\n",
              "    <tr>\n",
              "      <th>1</th>\n",
              "      <td>5723133</td>\n",
              "    </tr>\n",
              "    <tr>\n",
              "      <th>2</th>\n",
              "      <td>3276743</td>\n",
              "    </tr>\n",
              "    <tr>\n",
              "      <th>3</th>\n",
              "      <td>4238589</td>\n",
              "    </tr>\n",
              "    <tr>\n",
              "      <th>4</th>\n",
              "      <td>4475369</td>\n",
              "    </tr>\n",
              "  </tbody>\n",
              "</table>\n",
              "</div>"
            ],
            "text/plain": [
              "   student_id\n",
              "0      581585\n",
              "1     5723133\n",
              "2     3276743\n",
              "3     4238589\n",
              "4     4475369"
            ]
          },
          "metadata": {
            "tags": []
          }
        },
        {
          "output_type": "display_data",
          "data": {
            "text/html": [
              "<div>\n",
              "<style scoped>\n",
              "    .dataframe tbody tr th:only-of-type {\n",
              "        vertical-align: middle;\n",
              "    }\n",
              "\n",
              "    .dataframe tbody tr th {\n",
              "        vertical-align: top;\n",
              "    }\n",
              "\n",
              "    .dataframe thead th {\n",
              "        text-align: right;\n",
              "    }\n",
              "</style>\n",
              "<table border=\"1\" class=\"dataframe\">\n",
              "  <thead>\n",
              "    <tr style=\"text-align: right;\">\n",
              "      <th></th>\n",
              "      <th>student_id</th>\n",
              "    </tr>\n",
              "  </thead>\n",
              "  <tbody>\n",
              "    <tr>\n",
              "      <th>count</th>\n",
              "      <td>8.341000e+03</td>\n",
              "    </tr>\n",
              "    <tr>\n",
              "      <th>mean</th>\n",
              "      <td>2.448547e+06</td>\n",
              "    </tr>\n",
              "    <tr>\n",
              "      <th>std</th>\n",
              "      <td>1.564978e+06</td>\n",
              "    </tr>\n",
              "    <tr>\n",
              "      <th>min</th>\n",
              "      <td>1.627000e+03</td>\n",
              "    </tr>\n",
              "    <tr>\n",
              "      <th>25%</th>\n",
              "      <td>1.118405e+06</td>\n",
              "    </tr>\n",
              "    <tr>\n",
              "      <th>50%</th>\n",
              "      <td>2.094192e+06</td>\n",
              "    </tr>\n",
              "    <tr>\n",
              "      <th>75%</th>\n",
              "      <td>3.638877e+06</td>\n",
              "    </tr>\n",
              "    <tr>\n",
              "      <th>max</th>\n",
              "      <td>5.951797e+06</td>\n",
              "    </tr>\n",
              "  </tbody>\n",
              "</table>\n",
              "</div>"
            ],
            "text/plain": [
              "         student_id\n",
              "count  8.341000e+03\n",
              "mean   2.448547e+06\n",
              "std    1.564978e+06\n",
              "min    1.627000e+03\n",
              "25%    1.118405e+06\n",
              "50%    2.094192e+06\n",
              "75%    3.638877e+06\n",
              "max    5.951797e+06"
            ]
          },
          "metadata": {
            "tags": []
          }
        },
        {
          "output_type": "stream",
          "text": [
            "<class 'pandas.core.frame.DataFrame'>\n",
            "RangeIndex: 8341 entries, 0 to 8340\n",
            "Data columns (total 1 columns):\n",
            " #   Column      Non-Null Count  Dtype\n",
            "---  ------      --------------  -----\n",
            " 0   student_id  8341 non-null   int64\n",
            "dtypes: int64(1)\n",
            "memory usage: 65.3 KB\n"
          ],
          "name": "stdout"
        },
        {
          "output_type": "display_data",
          "data": {
            "text/plain": [
              "None"
            ]
          },
          "metadata": {
            "tags": []
          }
        },
        {
          "output_type": "display_data",
          "data": {
            "text/plain": [
              "student_id    0\n",
              "dtype: int64"
            ]
          },
          "metadata": {
            "tags": []
          }
        }
      ]
    },
    {
      "cell_type": "code",
      "metadata": {
        "id": "ijLGaK-m4OqU",
        "colab": {
          "base_uri": "https://localhost:8080/",
          "height": 705
        },
        "outputId": "3ecfc041-82db-4a50-ad3f-75f638fd124e"
      },
      "source": [
        "# Первичный обзор данных для таблицы checks.csv\r\n",
        "\r\n",
        "display(checks_data.head())\r\n",
        "display(checks_data.describe())\r\n",
        "display(checks_data.info())\r\n",
        "display(checks_data.isnull().sum())"
      ],
      "execution_count": 8,
      "outputs": [
        {
          "output_type": "display_data",
          "data": {
            "text/html": [
              "<div>\n",
              "<style scoped>\n",
              "    .dataframe tbody tr th:only-of-type {\n",
              "        vertical-align: middle;\n",
              "    }\n",
              "\n",
              "    .dataframe tbody tr th {\n",
              "        vertical-align: top;\n",
              "    }\n",
              "\n",
              "    .dataframe thead th {\n",
              "        text-align: right;\n",
              "    }\n",
              "</style>\n",
              "<table border=\"1\" class=\"dataframe\">\n",
              "  <thead>\n",
              "    <tr style=\"text-align: right;\">\n",
              "      <th></th>\n",
              "      <th>student_id</th>\n",
              "      <th>rev</th>\n",
              "    </tr>\n",
              "  </thead>\n",
              "  <tbody>\n",
              "    <tr>\n",
              "      <th>0</th>\n",
              "      <td>1627</td>\n",
              "      <td>990.0</td>\n",
              "    </tr>\n",
              "    <tr>\n",
              "      <th>1</th>\n",
              "      <td>3185</td>\n",
              "      <td>690.0</td>\n",
              "    </tr>\n",
              "    <tr>\n",
              "      <th>2</th>\n",
              "      <td>25973</td>\n",
              "      <td>690.0</td>\n",
              "    </tr>\n",
              "    <tr>\n",
              "      <th>3</th>\n",
              "      <td>26280</td>\n",
              "      <td>690.0</td>\n",
              "    </tr>\n",
              "    <tr>\n",
              "      <th>4</th>\n",
              "      <td>100300</td>\n",
              "      <td>990.0</td>\n",
              "    </tr>\n",
              "  </tbody>\n",
              "</table>\n",
              "</div>"
            ],
            "text/plain": [
              "   student_id    rev\n",
              "0        1627  990.0\n",
              "1        3185  690.0\n",
              "2       25973  690.0\n",
              "3       26280  690.0\n",
              "4      100300  990.0"
            ]
          },
          "metadata": {
            "tags": []
          }
        },
        {
          "output_type": "display_data",
          "data": {
            "text/html": [
              "<div>\n",
              "<style scoped>\n",
              "    .dataframe tbody tr th:only-of-type {\n",
              "        vertical-align: middle;\n",
              "    }\n",
              "\n",
              "    .dataframe tbody tr th {\n",
              "        vertical-align: top;\n",
              "    }\n",
              "\n",
              "    .dataframe thead th {\n",
              "        text-align: right;\n",
              "    }\n",
              "</style>\n",
              "<table border=\"1\" class=\"dataframe\">\n",
              "  <thead>\n",
              "    <tr style=\"text-align: right;\">\n",
              "      <th></th>\n",
              "      <th>student_id</th>\n",
              "      <th>rev</th>\n",
              "    </tr>\n",
              "  </thead>\n",
              "  <tbody>\n",
              "    <tr>\n",
              "      <th>count</th>\n",
              "      <td>5.410000e+02</td>\n",
              "      <td>541.000000</td>\n",
              "    </tr>\n",
              "    <tr>\n",
              "      <th>mean</th>\n",
              "      <td>2.514772e+06</td>\n",
              "      <td>1059.752317</td>\n",
              "    </tr>\n",
              "    <tr>\n",
              "      <th>std</th>\n",
              "      <td>1.726839e+06</td>\n",
              "      <td>762.712359</td>\n",
              "    </tr>\n",
              "    <tr>\n",
              "      <th>min</th>\n",
              "      <td>1.627000e+03</td>\n",
              "      <td>199.000000</td>\n",
              "    </tr>\n",
              "    <tr>\n",
              "      <th>25%</th>\n",
              "      <td>9.871290e+05</td>\n",
              "      <td>290.000000</td>\n",
              "    </tr>\n",
              "    <tr>\n",
              "      <th>50%</th>\n",
              "      <td>2.526021e+06</td>\n",
              "      <td>840.000000</td>\n",
              "    </tr>\n",
              "    <tr>\n",
              "      <th>75%</th>\n",
              "      <td>3.993249e+06</td>\n",
              "      <td>1900.000000</td>\n",
              "    </tr>\n",
              "    <tr>\n",
              "      <th>max</th>\n",
              "      <td>5.740903e+06</td>\n",
              "      <td>4650.000000</td>\n",
              "    </tr>\n",
              "  </tbody>\n",
              "</table>\n",
              "</div>"
            ],
            "text/plain": [
              "         student_id          rev\n",
              "count  5.410000e+02   541.000000\n",
              "mean   2.514772e+06  1059.752317\n",
              "std    1.726839e+06   762.712359\n",
              "min    1.627000e+03   199.000000\n",
              "25%    9.871290e+05   290.000000\n",
              "50%    2.526021e+06   840.000000\n",
              "75%    3.993249e+06  1900.000000\n",
              "max    5.740903e+06  4650.000000"
            ]
          },
          "metadata": {
            "tags": []
          }
        },
        {
          "output_type": "stream",
          "text": [
            "<class 'pandas.core.frame.DataFrame'>\n",
            "RangeIndex: 541 entries, 0 to 540\n",
            "Data columns (total 2 columns):\n",
            " #   Column      Non-Null Count  Dtype  \n",
            "---  ------      --------------  -----  \n",
            " 0   student_id  541 non-null    int64  \n",
            " 1   rev         541 non-null    float64\n",
            "dtypes: float64(1), int64(1)\n",
            "memory usage: 8.6 KB\n"
          ],
          "name": "stdout"
        },
        {
          "output_type": "display_data",
          "data": {
            "text/plain": [
              "None"
            ]
          },
          "metadata": {
            "tags": []
          }
        },
        {
          "output_type": "display_data",
          "data": {
            "text/plain": [
              "student_id    0\n",
              "rev           0\n",
              "dtype: int64"
            ]
          },
          "metadata": {
            "tags": []
          }
        }
      ]
    },
    {
      "cell_type": "markdown",
      "metadata": {
        "id": "cEzqYeD85VLU"
      },
      "source": [
        "### Промежуточный вывод\r\n",
        "\r\n",
        "1. Для удобства работы скорректируем название столбца в таблице groups.csv к student_id\r\n",
        "\r\n",
        "2. Серьезных отколонений в данных нет\r\n",
        "\r\n",
        "3. Пропущенные значения в таблицах отсутсвуют\r\n",
        "\r\n",
        "4. Необходимости в изменении типов данных нет"
      ]
    },
    {
      "cell_type": "code",
      "metadata": {
        "id": "dm3pyn4H61-8"
      },
      "source": [
        "# Скорректируем название столбца в таблице groups.csv\r\n",
        "\r\n",
        "group_data = group_data.rename({'id': 'student_id', 'rev': 'rev'}, axis=1)"
      ],
      "execution_count": 9,
      "outputs": []
    },
    {
      "cell_type": "code",
      "metadata": {
        "id": "MZ8f5M22_w5W"
      },
      "source": [
        "# Объединим таблицы для удобства анализа\r\n",
        "\r\n",
        "data = pd.merge(group_data.append(active_data), checks_data, on=('student_id'), how ='left')"
      ],
      "execution_count": 10,
      "outputs": []
    },
    {
      "cell_type": "markdown",
      "metadata": {
        "id": "TdVNSSs-ML6r"
      },
      "source": [
        "В целом, можно было использовать параметр *right* для удаления данных, которым не было найдено соответсвие в таблицах. Но я не хочу потрерять важные данные, поэтому использую параметр *left*."
      ]
    },
    {
      "cell_type": "code",
      "metadata": {
        "colab": {
          "base_uri": "https://localhost:8080/",
          "height": 741
        },
        "id": "X9PZeSjp8oy8",
        "outputId": "bae8fbb5-4143-43ba-9528-5f9fcb75b299"
      },
      "source": [
        "display(data.head())\r\n",
        "display(data.describe())\r\n",
        "display(data.info())\r\n",
        "display(data.isnull().sum())"
      ],
      "execution_count": 11,
      "outputs": [
        {
          "output_type": "display_data",
          "data": {
            "text/html": [
              "<div>\n",
              "<style scoped>\n",
              "    .dataframe tbody tr th:only-of-type {\n",
              "        vertical-align: middle;\n",
              "    }\n",
              "\n",
              "    .dataframe tbody tr th {\n",
              "        vertical-align: top;\n",
              "    }\n",
              "\n",
              "    .dataframe thead th {\n",
              "        text-align: right;\n",
              "    }\n",
              "</style>\n",
              "<table border=\"1\" class=\"dataframe\">\n",
              "  <thead>\n",
              "    <tr style=\"text-align: right;\">\n",
              "      <th></th>\n",
              "      <th>student_id</th>\n",
              "      <th>grp</th>\n",
              "      <th>rev</th>\n",
              "    </tr>\n",
              "  </thead>\n",
              "  <tbody>\n",
              "    <tr>\n",
              "      <th>0</th>\n",
              "      <td>1206794</td>\n",
              "      <td>B</td>\n",
              "      <td>NaN</td>\n",
              "    </tr>\n",
              "    <tr>\n",
              "      <th>1</th>\n",
              "      <td>331024</td>\n",
              "      <td>B</td>\n",
              "      <td>NaN</td>\n",
              "    </tr>\n",
              "    <tr>\n",
              "      <th>2</th>\n",
              "      <td>1733498</td>\n",
              "      <td>A</td>\n",
              "      <td>NaN</td>\n",
              "    </tr>\n",
              "    <tr>\n",
              "      <th>3</th>\n",
              "      <td>161574</td>\n",
              "      <td>B</td>\n",
              "      <td>NaN</td>\n",
              "    </tr>\n",
              "    <tr>\n",
              "      <th>4</th>\n",
              "      <td>168443</td>\n",
              "      <td>B</td>\n",
              "      <td>NaN</td>\n",
              "    </tr>\n",
              "  </tbody>\n",
              "</table>\n",
              "</div>"
            ],
            "text/plain": [
              "   student_id grp  rev\n",
              "0     1206794   B  NaN\n",
              "1      331024   B  NaN\n",
              "2     1733498   A  NaN\n",
              "3      161574   B  NaN\n",
              "4      168443   B  NaN"
            ]
          },
          "metadata": {
            "tags": []
          }
        },
        {
          "output_type": "display_data",
          "data": {
            "text/html": [
              "<div>\n",
              "<style scoped>\n",
              "    .dataframe tbody tr th:only-of-type {\n",
              "        vertical-align: middle;\n",
              "    }\n",
              "\n",
              "    .dataframe tbody tr th {\n",
              "        vertical-align: top;\n",
              "    }\n",
              "\n",
              "    .dataframe thead th {\n",
              "        text-align: right;\n",
              "    }\n",
              "</style>\n",
              "<table border=\"1\" class=\"dataframe\">\n",
              "  <thead>\n",
              "    <tr style=\"text-align: right;\">\n",
              "      <th></th>\n",
              "      <th>student_id</th>\n",
              "      <th>rev</th>\n",
              "    </tr>\n",
              "  </thead>\n",
              "  <tbody>\n",
              "    <tr>\n",
              "      <th>count</th>\n",
              "      <td>8.291700e+04</td>\n",
              "      <td>933.000000</td>\n",
              "    </tr>\n",
              "    <tr>\n",
              "      <th>mean</th>\n",
              "      <td>2.194078e+06</td>\n",
              "      <td>1115.884252</td>\n",
              "    </tr>\n",
              "    <tr>\n",
              "      <th>std</th>\n",
              "      <td>2.690611e+06</td>\n",
              "      <td>792.735345</td>\n",
              "    </tr>\n",
              "    <tr>\n",
              "      <th>min</th>\n",
              "      <td>1.489000e+03</td>\n",
              "      <td>199.000000</td>\n",
              "    </tr>\n",
              "    <tr>\n",
              "      <th>25%</th>\n",
              "      <td>9.797000e+05</td>\n",
              "      <td>290.000000</td>\n",
              "    </tr>\n",
              "    <tr>\n",
              "      <th>50%</th>\n",
              "      <td>1.701114e+06</td>\n",
              "      <td>870.000000</td>\n",
              "    </tr>\n",
              "    <tr>\n",
              "      <th>75%</th>\n",
              "      <td>3.359535e+06</td>\n",
              "      <td>1900.000000</td>\n",
              "    </tr>\n",
              "    <tr>\n",
              "      <th>max</th>\n",
              "      <td>2.010677e+08</td>\n",
              "      <td>4650.000000</td>\n",
              "    </tr>\n",
              "  </tbody>\n",
              "</table>\n",
              "</div>"
            ],
            "text/plain": [
              "         student_id          rev\n",
              "count  8.291700e+04   933.000000\n",
              "mean   2.194078e+06  1115.884252\n",
              "std    2.690611e+06   792.735345\n",
              "min    1.489000e+03   199.000000\n",
              "25%    9.797000e+05   290.000000\n",
              "50%    1.701114e+06   870.000000\n",
              "75%    3.359535e+06  1900.000000\n",
              "max    2.010677e+08  4650.000000"
            ]
          },
          "metadata": {
            "tags": []
          }
        },
        {
          "output_type": "stream",
          "text": [
            "<class 'pandas.core.frame.DataFrame'>\n",
            "Int64Index: 82917 entries, 0 to 82916\n",
            "Data columns (total 3 columns):\n",
            " #   Column      Non-Null Count  Dtype  \n",
            "---  ------      --------------  -----  \n",
            " 0   student_id  82917 non-null  int64  \n",
            " 1   grp         74576 non-null  object \n",
            " 2   rev         933 non-null    float64\n",
            "dtypes: float64(1), int64(1), object(1)\n",
            "memory usage: 2.5+ MB\n"
          ],
          "name": "stdout"
        },
        {
          "output_type": "display_data",
          "data": {
            "text/plain": [
              "None"
            ]
          },
          "metadata": {
            "tags": []
          }
        },
        {
          "output_type": "display_data",
          "data": {
            "text/plain": [
              "student_id        0\n",
              "grp            8341\n",
              "rev           81984\n",
              "dtype: int64"
            ]
          },
          "metadata": {
            "tags": []
          }
        }
      ]
    },
    {
      "cell_type": "code",
      "metadata": {
        "id": "jndFmyzYHcz4"
      },
      "source": [
        "# Отсутствующие данные удалим, т.к. эти пользователи не были внесены в A/B тест\r\n",
        "\r\n",
        "data = data.dropna().reset_index(drop = True)"
      ],
      "execution_count": 12,
      "outputs": []
    },
    {
      "cell_type": "code",
      "metadata": {
        "colab": {
          "base_uri": "https://localhost:8080/",
          "height": 741
        },
        "id": "jrl-na1lIDf3",
        "outputId": "068a40cb-83c5-4742-c7e3-2d5cd7e979ad"
      },
      "source": [
        "display(data.head())\r\n",
        "display(data.describe())\r\n",
        "display(data.info())\r\n",
        "display(data.isnull().sum())"
      ],
      "execution_count": 13,
      "outputs": [
        {
          "output_type": "display_data",
          "data": {
            "text/html": [
              "<div>\n",
              "<style scoped>\n",
              "    .dataframe tbody tr th:only-of-type {\n",
              "        vertical-align: middle;\n",
              "    }\n",
              "\n",
              "    .dataframe tbody tr th {\n",
              "        vertical-align: top;\n",
              "    }\n",
              "\n",
              "    .dataframe thead th {\n",
              "        text-align: right;\n",
              "    }\n",
              "</style>\n",
              "<table border=\"1\" class=\"dataframe\">\n",
              "  <thead>\n",
              "    <tr style=\"text-align: right;\">\n",
              "      <th></th>\n",
              "      <th>student_id</th>\n",
              "      <th>grp</th>\n",
              "      <th>rev</th>\n",
              "    </tr>\n",
              "  </thead>\n",
              "  <tbody>\n",
              "    <tr>\n",
              "      <th>0</th>\n",
              "      <td>456232</td>\n",
              "      <td>B</td>\n",
              "      <td>690.0</td>\n",
              "    </tr>\n",
              "    <tr>\n",
              "      <th>1</th>\n",
              "      <td>393127</td>\n",
              "      <td>B</td>\n",
              "      <td>290.0</td>\n",
              "    </tr>\n",
              "    <tr>\n",
              "      <th>2</th>\n",
              "      <td>459662</td>\n",
              "      <td>B</td>\n",
              "      <td>690.0</td>\n",
              "    </tr>\n",
              "    <tr>\n",
              "      <th>3</th>\n",
              "      <td>4163705</td>\n",
              "      <td>B</td>\n",
              "      <td>580.0</td>\n",
              "    </tr>\n",
              "    <tr>\n",
              "      <th>4</th>\n",
              "      <td>387124</td>\n",
              "      <td>B</td>\n",
              "      <td>690.0</td>\n",
              "    </tr>\n",
              "  </tbody>\n",
              "</table>\n",
              "</div>"
            ],
            "text/plain": [
              "   student_id grp    rev\n",
              "0      456232   B  690.0\n",
              "1      393127   B  290.0\n",
              "2      459662   B  690.0\n",
              "3     4163705   B  580.0\n",
              "4      387124   B  690.0"
            ]
          },
          "metadata": {
            "tags": []
          }
        },
        {
          "output_type": "display_data",
          "data": {
            "text/html": [
              "<div>\n",
              "<style scoped>\n",
              "    .dataframe tbody tr th:only-of-type {\n",
              "        vertical-align: middle;\n",
              "    }\n",
              "\n",
              "    .dataframe tbody tr th {\n",
              "        vertical-align: top;\n",
              "    }\n",
              "\n",
              "    .dataframe thead th {\n",
              "        text-align: right;\n",
              "    }\n",
              "</style>\n",
              "<table border=\"1\" class=\"dataframe\">\n",
              "  <thead>\n",
              "    <tr style=\"text-align: right;\">\n",
              "      <th></th>\n",
              "      <th>student_id</th>\n",
              "      <th>rev</th>\n",
              "    </tr>\n",
              "  </thead>\n",
              "  <tbody>\n",
              "    <tr>\n",
              "      <th>count</th>\n",
              "      <td>5.410000e+02</td>\n",
              "      <td>541.000000</td>\n",
              "    </tr>\n",
              "    <tr>\n",
              "      <th>mean</th>\n",
              "      <td>2.514772e+06</td>\n",
              "      <td>1059.752317</td>\n",
              "    </tr>\n",
              "    <tr>\n",
              "      <th>std</th>\n",
              "      <td>1.726839e+06</td>\n",
              "      <td>762.712359</td>\n",
              "    </tr>\n",
              "    <tr>\n",
              "      <th>min</th>\n",
              "      <td>1.627000e+03</td>\n",
              "      <td>199.000000</td>\n",
              "    </tr>\n",
              "    <tr>\n",
              "      <th>25%</th>\n",
              "      <td>9.871290e+05</td>\n",
              "      <td>290.000000</td>\n",
              "    </tr>\n",
              "    <tr>\n",
              "      <th>50%</th>\n",
              "      <td>2.526021e+06</td>\n",
              "      <td>840.000000</td>\n",
              "    </tr>\n",
              "    <tr>\n",
              "      <th>75%</th>\n",
              "      <td>3.993249e+06</td>\n",
              "      <td>1900.000000</td>\n",
              "    </tr>\n",
              "    <tr>\n",
              "      <th>max</th>\n",
              "      <td>5.740903e+06</td>\n",
              "      <td>4650.000000</td>\n",
              "    </tr>\n",
              "  </tbody>\n",
              "</table>\n",
              "</div>"
            ],
            "text/plain": [
              "         student_id          rev\n",
              "count  5.410000e+02   541.000000\n",
              "mean   2.514772e+06  1059.752317\n",
              "std    1.726839e+06   762.712359\n",
              "min    1.627000e+03   199.000000\n",
              "25%    9.871290e+05   290.000000\n",
              "50%    2.526021e+06   840.000000\n",
              "75%    3.993249e+06  1900.000000\n",
              "max    5.740903e+06  4650.000000"
            ]
          },
          "metadata": {
            "tags": []
          }
        },
        {
          "output_type": "stream",
          "text": [
            "<class 'pandas.core.frame.DataFrame'>\n",
            "RangeIndex: 541 entries, 0 to 540\n",
            "Data columns (total 3 columns):\n",
            " #   Column      Non-Null Count  Dtype  \n",
            "---  ------      --------------  -----  \n",
            " 0   student_id  541 non-null    int64  \n",
            " 1   grp         541 non-null    object \n",
            " 2   rev         541 non-null    float64\n",
            "dtypes: float64(1), int64(1), object(1)\n",
            "memory usage: 12.8+ KB\n"
          ],
          "name": "stdout"
        },
        {
          "output_type": "display_data",
          "data": {
            "text/plain": [
              "None"
            ]
          },
          "metadata": {
            "tags": []
          }
        },
        {
          "output_type": "display_data",
          "data": {
            "text/plain": [
              "student_id    0\n",
              "grp           0\n",
              "rev           0\n",
              "dtype: int64"
            ]
          },
          "metadata": {
            "tags": []
          }
        }
      ]
    },
    {
      "cell_type": "code",
      "metadata": {
        "colab": {
          "base_uri": "https://localhost:8080/"
        },
        "id": "knhBVTRDrldH",
        "outputId": "718a2ea9-2d8f-410d-809d-b1e664de9dc1"
      },
      "source": [
        "# Проверим размерность, что никакие данные из таблицы checks.csv не потерялись\r\n",
        "len(data) - len(checks_data)"
      ],
      "execution_count": 14,
      "outputs": [
        {
          "output_type": "execute_result",
          "data": {
            "text/plain": [
              "0"
            ]
          },
          "metadata": {
            "tags": []
          },
          "execution_count": 14
        }
      ]
    },
    {
      "cell_type": "markdown",
      "metadata": {
        "id": "5EEAK29Z6hKR"
      },
      "source": [
        "# Шаг 2. Исследовательский анализ данных"
      ]
    },
    {
      "cell_type": "code",
      "metadata": {
        "colab": {
          "base_uri": "https://localhost:8080/"
        },
        "id": "oHNtg21pUdte",
        "outputId": "1ec131e8-ad9a-4293-e2db-75bd1742955f"
      },
      "source": [
        "# Проверим распределение по группам\r\n",
        "\r\n",
        "data['grp'].value_counts()"
      ],
      "execution_count": 15,
      "outputs": [
        {
          "output_type": "execute_result",
          "data": {
            "text/plain": [
              "B    434\n",
              "A    107\n",
              "Name: grp, dtype: int64"
            ]
          },
          "metadata": {
            "tags": []
          },
          "execution_count": 15
        }
      ]
    },
    {
      "cell_type": "code",
      "metadata": {
        "colab": {
          "base_uri": "https://localhost:8080/",
          "height": 127
        },
        "id": "ZlOyXgJ5tSD3",
        "outputId": "443ca8a9-7c40-4c5e-f3c5-4d16044e14fd"
      },
      "source": [
        "# Сравним базовые метрики по выборке\r\n",
        "\r\n",
        "print('Средний чек по датафрейму: {:.2f}'.format(data.rev.median()))\r\n",
        "\r\n",
        "avg_check = data.pivot_table(index = 'grp', values = 'rev', aggfunc = ['median', 'mean', 'sum']).reset_index()\r\n",
        "avg_check.columns = ['Группа', 'Медиана', 'Арифметическое среднее', 'Сумма чеков']\r\n",
        "display(avg_check)"
      ],
      "execution_count": 16,
      "outputs": [
        {
          "output_type": "stream",
          "text": [
            "Средний чек по датафрейму: 840.00\n"
          ],
          "name": "stdout"
        },
        {
          "output_type": "display_data",
          "data": {
            "text/html": [
              "<div>\n",
              "<style scoped>\n",
              "    .dataframe tbody tr th:only-of-type {\n",
              "        vertical-align: middle;\n",
              "    }\n",
              "\n",
              "    .dataframe tbody tr th {\n",
              "        vertical-align: top;\n",
              "    }\n",
              "\n",
              "    .dataframe thead th {\n",
              "        text-align: right;\n",
              "    }\n",
              "</style>\n",
              "<table border=\"1\" class=\"dataframe\">\n",
              "  <thead>\n",
              "    <tr style=\"text-align: right;\">\n",
              "      <th></th>\n",
              "      <th>Группа</th>\n",
              "      <th>Медиана</th>\n",
              "      <th>Арифметическое среднее</th>\n",
              "      <th>Сумма чеков</th>\n",
              "    </tr>\n",
              "  </thead>\n",
              "  <tbody>\n",
              "    <tr>\n",
              "      <th>0</th>\n",
              "      <td>A</td>\n",
              "      <td>690.0</td>\n",
              "      <td>860.710280</td>\n",
              "      <td>92096.0000</td>\n",
              "    </tr>\n",
              "    <tr>\n",
              "      <th>1</th>\n",
              "      <td>B</td>\n",
              "      <td>935.0</td>\n",
              "      <td>1108.824893</td>\n",
              "      <td>481230.0036</td>\n",
              "    </tr>\n",
              "  </tbody>\n",
              "</table>\n",
              "</div>"
            ],
            "text/plain": [
              "  Группа  Медиана  Арифметическое среднее  Сумма чеков\n",
              "0      A    690.0              860.710280   92096.0000\n",
              "1      B    935.0             1108.824893  481230.0036"
            ]
          },
          "metadata": {
            "tags": []
          }
        }
      ]
    },
    {
      "cell_type": "markdown",
      "metadata": {
        "id": "-ZuIeoS6wDsJ"
      },
      "source": [
        "### Промежуточный вывод\r\n",
        "\r\n",
        "Медана, среднее арифметическое и сумма чеков по группе В выше, чем у группы А. Однако, нужно учитывать, что выборки не сбалансированы, поэтому использовать эти данные для финального принятия решения об успешности проведенного А/B теста нельзя."
      ]
    },
    {
      "cell_type": "code",
      "metadata": {
        "id": "pVou33K2JQRK"
      },
      "source": [
        "# Выделим пользователей, вошедших в группу А и В\r\n",
        "\r\n",
        "a_group = data.query('grp == \"A\"')\r\n",
        "b_group = data.query('grp == \"B\"')"
      ],
      "execution_count": 17,
      "outputs": []
    },
    {
      "cell_type": "code",
      "metadata": {
        "colab": {
          "base_uri": "https://localhost:8080/"
        },
        "id": "zbnE0AQgTRii",
        "outputId": "7a9bba0a-9426-440e-acf2-9f226505af7c"
      },
      "source": [
        "# Выделим случайным образом 100 пользователей из каждой выборки\r\n",
        "\r\n",
        "a_group_sample = a_group.sample(n=100, random_state=42)\r\n",
        "b_group_sample = b_group.sample(n=100, random_state=42)\r\n",
        "\r\n",
        "# Проверка\r\n",
        "print(len(a_group_sample))\r\n",
        "print(len(b_group_sample))\r\n",
        "print('---')\r\n",
        "print(a_group_sample.shape)\r\n",
        "print(b_group_sample.shape)"
      ],
      "execution_count": 18,
      "outputs": [
        {
          "output_type": "stream",
          "text": [
            "100\n",
            "100\n",
            "---\n",
            "(100, 3)\n",
            "(100, 3)\n"
          ],
          "name": "stdout"
        }
      ]
    },
    {
      "cell_type": "code",
      "metadata": {
        "colab": {
          "base_uri": "https://localhost:8080/",
          "height": 335
        },
        "id": "53GNx_LwM0VS",
        "outputId": "31d4eb6a-69c3-47c2-b6e8-459b2979df79"
      },
      "source": [
        "# Проверим распределения на нормальность\r\n",
        "\r\n",
        "a_distplot = sns.distplot(a_group_sample['rev'])\r\n",
        "fig = a_distplot.get_figure()"
      ],
      "execution_count": 19,
      "outputs": [
        {
          "output_type": "stream",
          "text": [
            "/usr/local/lib/python3.7/dist-packages/seaborn/distributions.py:2557: FutureWarning: `distplot` is a deprecated function and will be removed in a future version. Please adapt your code to use either `displot` (a figure-level function with similar flexibility) or `histplot` (an axes-level function for histograms).\n",
            "  warnings.warn(msg, FutureWarning)\n"
          ],
          "name": "stderr"
        },
        {
          "output_type": "display_data",
          "data": {
            "image/png": "[encoded data removed]",
            "text/plain": [
              "<Figure size 432x288 with 1 Axes>"
            ]
          },
          "metadata": {
            "tags": [],
            "needs_background": "light"
          }
        }
      ]
    },
    {
      "cell_type": "code",
      "metadata": {
        "colab": {
          "base_uri": "https://localhost:8080/",
          "height": 407
        },
        "id": "YSTSvL667FAo",
        "outputId": "c0dde04c-d77e-416a-9fff-7ea5c6c448dc"
      },
      "source": [
        "plt.boxplot(a_group_sample['rev'])\r\n",
        "\r\n",
        "# В данных есть выбросы в бОльшую сторону"
      ],
      "execution_count": 20,
      "outputs": [
        {
          "output_type": "execute_result",
          "data": {
            "text/plain": [
              "{'boxes': [<matplotlib.lines.Line2D at 0x7f9b477d5050>],\n",
              " 'caps': [<matplotlib.lines.Line2D at 0x7f9b477dd110>,\n",
              "  <matplotlib.lines.Line2D at 0x7f9b477dd650>],\n",
              " 'fliers': [<matplotlib.lines.Line2D at 0x7f9b477e4150>],\n",
              " 'means': [],\n",
              " 'medians': [<matplotlib.lines.Line2D at 0x7f9b477ddbd0>],\n",
              " 'whiskers': [<matplotlib.lines.Line2D at 0x7f9b477d5650>,\n",
              "  <matplotlib.lines.Line2D at 0x7f9b477d5b90>]}"
            ]
          },
          "metadata": {
            "tags": []
          },
          "execution_count": 20
        },
        {
          "output_type": "display_data",
          "data": {
            "image/png": "[encoded data removed]",
            "text/plain": [
              "<Figure size 432x288 with 1 Axes>"
            ]
          },
          "metadata": {
            "tags": [],
            "needs_background": "light"
          }
        }
      ]
    },
    {
      "cell_type": "code",
      "metadata": {
        "colab": {
          "base_uri": "https://localhost:8080/",
          "height": 335
        },
        "id": "5Xe4DjKG6NZ0",
        "outputId": "ea4baf59-fa51-48f3-eb1d-cba5b6395e38"
      },
      "source": [
        "b_distplot = sns.distplot(b_group_sample['rev'])\r\n",
        "fig = b_distplot.get_figure()"
      ],
      "execution_count": 21,
      "outputs": [
        {
          "output_type": "stream",
          "text": [
            "/usr/local/lib/python3.7/dist-packages/seaborn/distributions.py:2557: FutureWarning: `distplot` is a deprecated function and will be removed in a future version. Please adapt your code to use either `displot` (a figure-level function with similar flexibility) or `histplot` (an axes-level function for histograms).\n",
            "  warnings.warn(msg, FutureWarning)\n"
          ],
          "name": "stderr"
        },
        {
          "output_type": "display_data",
          "data": {
            "image/png": "[encoded data removed]",
            "text/plain": [
              "<Figure size 432x288 with 1 Axes>"
            ]
          },
          "metadata": {
            "tags": [],
            "needs_background": "light"
          }
        }
      ]
    },
    {
      "cell_type": "code",
      "metadata": {
        "colab": {
          "base_uri": "https://localhost:8080/",
          "height": 407
        },
        "id": "PNeEbNC27Kuf",
        "outputId": "4e66fb6b-5ff7-46aa-e063-d151d3293a8e"
      },
      "source": [
        "plt.boxplot(b_group_sample['rev'])\r\n",
        "\r\n",
        "# Для группы B данные в целом распределены нормально"
      ],
      "execution_count": 22,
      "outputs": [
        {
          "output_type": "execute_result",
          "data": {
            "text/plain": [
              "{'boxes': [<matplotlib.lines.Line2D at 0x7f9b476ce450>],\n",
              " 'caps': [<matplotlib.lines.Line2D at 0x7f9b476d3490>,\n",
              "  <matplotlib.lines.Line2D at 0x7f9b476d39d0>],\n",
              " 'fliers': [<matplotlib.lines.Line2D at 0x7f9b476da4d0>],\n",
              " 'means': [],\n",
              " 'medians': [<matplotlib.lines.Line2D at 0x7f9b476d3f50>],\n",
              " 'whiskers': [<matplotlib.lines.Line2D at 0x7f9b476ce9d0>,\n",
              "  <matplotlib.lines.Line2D at 0x7f9b476cef10>]}"
            ]
          },
          "metadata": {
            "tags": []
          },
          "execution_count": 22
        },
        {
          "output_type": "display_data",
          "data": {
            "image/png": "[encoded data removed]",
            "text/plain": [
              "<Figure size 432x288 with 1 Axes>"
            ]
          },
          "metadata": {
            "tags": [],
            "needs_background": "light"
          }
        }
      ]
    },
    {
      "cell_type": "markdown",
      "metadata": {
        "id": "D0zRR_5Ezcse"
      },
      "source": [
        "# Шаг 3. Проверка гипотез"
      ]
    },
    {
      "cell_type": "markdown",
      "metadata": {
        "id": "5xJwMDq44IzQ"
      },
      "source": [
        "Напомним основную гипотезу:\r\n",
        "\r\n",
        "*Средний чек пользователей из группы А отличается от среднего чека пользователей из группы В*\r\n",
        "- Н0 Нулевая гипотеза - Средний чек пользователей из группы А больше, чем пользователей из группы В\r\n",
        "- Н1 Альтернативная гипотеза - Средний чек пользователей из группы А меньше, чем пользователей из группы В"
      ]
    },
    {
      "cell_type": "code",
      "metadata": {
        "colab": {
          "base_uri": "https://localhost:8080/"
        },
        "id": "nVsi7ryu25Vt",
        "outputId": "3e660583-04a5-4f90-d94c-1dd6ee7580d9"
      },
      "source": [
        "print('cредний чек в группе А:',pd.Series(a_group_sample['rev'].median()))\r\n",
        "print('cредний чек в группе B:',pd.Series(b_group_sample['rev'].median()))\r\n",
        "\r\n",
        "alpha = 0.05\r\n",
        "\r\n",
        "results = st.ttest_ind(a_group_sample['rev'], b_group_sample['rev'], equal_var = False)\r\n",
        "\r\n",
        "if (results.pvalue < alpha):\r\n",
        "    print(\"Отвергаем нулевую гипотезу\")\r\n",
        "else:\r\n",
        "    print(\"Не получилось отвергнуть нулевую гипотезу\")\r\n",
        "\r\n",
        "print('p-значение: ', results.pvalue)"
      ],
      "execution_count": 23,
      "outputs": [
        {
          "output_type": "stream",
          "text": [
            "cредний чек в группе А: 0    590.0\n",
            "dtype: float64\n",
            "cредний чек в группе B: 0    990.0\n",
            "dtype: float64\n",
            "Отвергаем нулевую гипотезу\n",
            "p-значение:  0.002946218718785415\n"
          ],
          "name": "stdout"
        }
      ]
    },
    {
      "cell_type": "markdown",
      "metadata": {
        "id": "9ZXSsL744RE8"
      },
      "source": [
        "## Вывод\r\n",
        "\r\n",
        "1. В ходе исследования была подтверждена гипотеза о том, что средний чек пользователей из группы А меньше, чем пользователей из группы В. Следовательно, результат тестирования новой механики можно охарактеризовать как успешный.\r\n",
        "\r\n",
        "2. В ходе анализа наибольшее внимание обращалось на медиану среднего чека, т.к. медиана менее восприимчива к выбросам, нежели среднее арифметическое.\r\n",
        "\r\n",
        "3. Факторы, которые могли повлиять на увеличение среднего чека в новой механике оплаты: \r\n",
        "- Внедрение возможности оплаты Apple Pay, Google Pay. Пользователи быстрее решаются на покупку, нежели ручной ввод банковских данных. \r\n",
        "- Обновленная страница транзакции, т.е. переход к новому банку-эквайре. Возможно, пользователи доверяют этому банку больше."
      ]
    }
  ]
}